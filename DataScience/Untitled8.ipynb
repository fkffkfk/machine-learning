{
 "cells": [
  {
   "cell_type": "code",
   "execution_count": 8,
   "id": "d0523b0b",
   "metadata": {},
   "outputs": [
    {
     "name": "stdout",
     "output_type": "stream",
     "text": [
      "['C:/Users/user/Downloads/ch04_Excel-Automation-master/Excel-Automation-master\\\\sales-feb-2014.xlsx', 'C:/Users/user/Downloads/ch04_Excel-Automation-master/Excel-Automation-master\\\\sales-jan-2014.xlsx', 'C:/Users/user/Downloads/ch04_Excel-Automation-master/Excel-Automation-master\\\\sales-mar-2014.xlsx']\n"
     ]
    }
   ],
   "source": [
    "import os\n",
    "filenames=[os.path.join(\"C:/Users/user/Downloads/ch04_Excel-Automation-master/Excel-Automation-master\",filename) for filename in os.listdir(\"C:/Users/user/Downloads/ch04_Excel-Automation-master/Excel-Automation-master\")if \"sales\" in filename]\n",
    "print(filenames)"
   ]
  },
  {
   "cell_type": "code",
   "execution_count": 9,
   "id": "b83ebb49",
   "metadata": {},
   "outputs": [
    {
     "name": "stdout",
     "output_type": "stream",
     "text": [
      "Requirement already satisfied: openpyxl in c:\\users\\user\\anaconda3\\envs\\ml\\lib\\site-packages (3.0.10)\n",
      "Collecting openpyxl\n",
      "  Downloading openpyxl-3.1.2-py2.py3-none-any.whl (249 kB)\n",
      "     ---------------------------------------- 0.0/250.0 kB ? eta -:--:--\n",
      "     -------------------------------------- 250.0/250.0 kB 7.7 MB/s eta 0:00:00\n",
      "Requirement already satisfied: et-xmlfile in c:\\users\\user\\anaconda3\\envs\\ml\\lib\\site-packages (from openpyxl) (1.1.0)\n",
      "Installing collected packages: openpyxl\n",
      "Successfully installed openpyxl-3.1.2\n"
     ]
    }
   ],
   "source": [
    "!pip install --user --upgrade openpyxl"
   ]
  },
  {
   "cell_type": "code",
   "execution_count": 11,
   "id": "761ecd4a",
   "metadata": {},
   "outputs": [
    {
     "name": "stdout",
     "output_type": "stream",
     "text": [
      "<class 'pandas.core.frame.DataFrame'> 108\n",
      "<class 'pandas.core.frame.DataFrame'> 134\n",
      "<class 'pandas.core.frame.DataFrame'> 142\n"
     ]
    }
   ],
   "source": [
    "import pandas as pd\n",
    "df_list = [pd.read_excel(filename,engine=\"openpyxl\") for filename in filenames]\n",
    "for df in df_list:\n",
    "    print(type(df),len(df))"
   ]
  },
  {
   "cell_type": "code",
   "execution_count": null,
   "id": "2f62cfc9",
   "metadata": {},
   "outputs": [],
   "source": []
  }
 ],
 "metadata": {
  "kernelspec": {
   "display_name": "Python 3 (ipykernel)",
   "language": "python",
   "name": "python3"
  },
  "language_info": {
   "codemirror_mode": {
    "name": "ipython",
    "version": 3
   },
   "file_extension": ".py",
   "mimetype": "text/x-python",
   "name": "python",
   "nbconvert_exporter": "python",
   "pygments_lexer": "ipython3",
   "version": "3.9.16"
  }
 },
 "nbformat": 4,
 "nbformat_minor": 5
}
