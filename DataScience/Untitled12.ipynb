{
 "cells": [
  {
   "cell_type": "code",
   "execution_count": 1,
   "id": "dcd4711c",
   "metadata": {},
   "outputs": [
    {
     "data": {
      "text/plain": [
       "0.5321841786449499"
      ]
     },
     "execution_count": 1,
     "metadata": {},
     "output_type": "execute_result"
    }
   ],
   "source": [
    "import numpy as np\n",
    "Y_true=np.array([1,1,0,1,1])\n",
    "Y_pred=np.array([0.23,0.5,0.99,0.69,0.4])\n",
    "np.sqrt(np.sum(Y_true-Y_pred)**2/len(Y_true))"
   ]
  },
  {
   "cell_type": "code",
   "execution_count": 2,
   "id": "a34059e2",
   "metadata": {},
   "outputs": [
    {
     "data": {
      "text/plain": [
       "array([0.34435447, 0.2236068 , 0.44274146, 0.13863621, 0.26832816])"
      ]
     },
     "execution_count": 2,
     "metadata": {},
     "output_type": "execute_result"
    }
   ],
   "source": [
    "diff=(Y_true-Y_pred)\n",
    "np.sqrt(diff**2/len(Y_true))"
   ]
  },
  {
   "cell_type": "code",
   "execution_count": 4,
   "id": "f91ea741",
   "metadata": {},
   "outputs": [
    {
     "data": {
      "text/plain": [
       "0.6751444289927897"
      ]
     },
     "execution_count": 4,
     "metadata": {},
     "output_type": "execute_result"
    }
   ],
   "source": [
    "np.sqrt(np.sum(np.square((Y_true-Y_pred)))/len(Y_true))"
   ]
  },
  {
   "cell_type": "code",
   "execution_count": 5,
   "id": "929c0d4d",
   "metadata": {},
   "outputs": [
    {
     "data": {
      "text/plain": [
       "0.6751444289927896"
      ]
     },
     "execution_count": 5,
     "metadata": {},
     "output_type": "execute_result"
    }
   ],
   "source": [
    "diff=(Y_true-Y_pred)\n",
    "np.sqrt(diff.T.dot(diff)/len(Y_true))"
   ]
  },
  {
   "cell_type": "code",
   "execution_count": 13,
   "id": "3ba8d717",
   "metadata": {},
   "outputs": [],
   "source": [
    "A=np.array([8,1,2,2,3,4,5,6,7,8])\n",
    "Z=(A-np.mean(A))/np.std(A)"
   ]
  },
  {
   "cell_type": "code",
   "execution_count": 14,
   "id": "ad49c919",
   "metadata": {},
   "outputs": [
    {
     "data": {
      "text/plain": [
       "array([ 1.38344038, -1.46481923, -1.057925  , -1.057925  , -0.65103077,\n",
       "       -0.24413654,  0.16275769,  0.56965192,  0.97654615,  1.38344038])"
      ]
     },
     "execution_count": 14,
     "metadata": {},
     "output_type": "execute_result"
    }
   ],
   "source": [
    "Z"
   ]
  },
  {
   "cell_type": "code",
   "execution_count": 16,
   "id": "de7db6a2",
   "metadata": {},
   "outputs": [
    {
     "data": {
      "text/plain": [
       "array([[ 8, 26],\n",
       "       [17, 62],\n",
       "       [26, 98]])"
      ]
     },
     "execution_count": 16,
     "metadata": {},
     "output_type": "execute_result"
    }
   ],
   "source": [
    "test_a=np.arange(1,10).reshape(3,3)\n",
    "test_b=np.arange(6).reshape(2,3)\n",
    "test_a.dot(test_b.T)"
   ]
  },
  {
   "cell_type": "code",
   "execution_count": 17,
   "id": "b925eacc",
   "metadata": {},
   "outputs": [
    {
     "name": "stdout",
     "output_type": "stream",
     "text": [
      "8\n"
     ]
    }
   ],
   "source": [
    "arr=np.arange(16).reshape(4,4)\n",
    "print(arr.size-(arr.shape[0]*arr.ndim))"
   ]
  },
  {
   "cell_type": "code",
   "execution_count": 18,
   "id": "290a7f7d",
   "metadata": {},
   "outputs": [
    {
     "name": "stdout",
     "output_type": "stream",
     "text": [
      "(2, 10)\n"
     ]
    }
   ],
   "source": [
    "arr=np.arange(20).reshape(10,2)\n",
    "x,y=arr.shape\n",
    "print(arr.reshape(y,x).shape)"
   ]
  },
  {
   "cell_type": "code",
   "execution_count": 20,
   "id": "6098291d",
   "metadata": {},
   "outputs": [
    {
     "data": {
      "text/plain": [
       "array([0, 1, 2, 3, 4, 5, 6, 7])"
      ]
     },
     "execution_count": 20,
     "metadata": {},
     "output_type": "execute_result"
    }
   ],
   "source": [
    "arr=np.arange(8)\n",
    "arr.flatten()"
   ]
  },
  {
   "cell_type": "code",
   "execution_count": 21,
   "id": "a2eaba46",
   "metadata": {},
   "outputs": [
    {
     "data": {
      "text/plain": [
       "array([[0, 1, 2, 3],\n",
       "       [4, 5, 6, 7]])"
      ]
     },
     "execution_count": 21,
     "metadata": {},
     "output_type": "execute_result"
    }
   ],
   "source": [
    "arr.reshape(2,-2)"
   ]
  },
  {
   "cell_type": "code",
   "execution_count": 22,
   "id": "fa442a49",
   "metadata": {},
   "outputs": [
    {
     "data": {
      "text/plain": [
       "array([0, 1, 2, 3, 4, 5, 6, 7])"
      ]
     },
     "execution_count": 22,
     "metadata": {},
     "output_type": "execute_result"
    }
   ],
   "source": [
    "arr.reshape(arr.size)"
   ]
  },
  {
   "cell_type": "code",
   "execution_count": 23,
   "id": "9bd16e9c",
   "metadata": {},
   "outputs": [
    {
     "data": {
      "text/plain": [
       "array([0, 1, 2, 3, 4, 5, 6, 7])"
      ]
     },
     "execution_count": 23,
     "metadata": {},
     "output_type": "execute_result"
    }
   ],
   "source": [
    "arr"
   ]
  },
  {
   "cell_type": "code",
   "execution_count": 25,
   "id": "3dba8888",
   "metadata": {},
   "outputs": [
    {
     "data": {
      "text/plain": [
       "False"
      ]
     },
     "execution_count": 25,
     "metadata": {},
     "output_type": "execute_result"
    }
   ],
   "source": [
    "arr_1=np.arange(4)\n",
    "arr_2=np.arange(4,0,-1)\n",
    "np.all(arr_1<arr_2)"
   ]
  },
  {
   "cell_type": "code",
   "execution_count": 26,
   "id": "3908855d",
   "metadata": {},
   "outputs": [
    {
     "data": {
      "text/plain": [
       "array([5])"
      ]
     },
     "execution_count": 26,
     "metadata": {},
     "output_type": "execute_result"
    }
   ],
   "source": [
    "a=np.arange(6).reshape(2,3)\n",
    "b=a>4\n",
    "a[b]"
   ]
  },
  {
   "cell_type": "code",
   "execution_count": 27,
   "id": "c051605d",
   "metadata": {},
   "outputs": [
    {
     "data": {
      "text/plain": [
       "array([[False, False, False],\n",
       "       [False, False,  True]])"
      ]
     },
     "execution_count": 27,
     "metadata": {},
     "output_type": "execute_result"
    }
   ],
   "source": [
    "b"
   ]
  },
  {
   "cell_type": "code",
   "execution_count": 28,
   "id": "6866c1d1",
   "metadata": {},
   "outputs": [
    {
     "data": {
      "text/plain": [
       "array([[0, 0, 0],\n",
       "       [0, 0, 1]])"
      ]
     },
     "execution_count": 28,
     "metadata": {},
     "output_type": "execute_result"
    }
   ],
   "source": [
    "a.take(b)"
   ]
  },
  {
   "cell_type": "code",
   "execution_count": 29,
   "id": "56147bd3",
   "metadata": {},
   "outputs": [
    {
     "data": {
      "text/plain": [
       "array([[0, 1, 2],\n",
       "       [3, 4, 5]])"
      ]
     },
     "execution_count": 29,
     "metadata": {},
     "output_type": "execute_result"
    }
   ],
   "source": [
    "a"
   ]
  },
  {
   "cell_type": "code",
   "execution_count": 30,
   "id": "d8a5dca1",
   "metadata": {},
   "outputs": [
    {
     "name": "stdout",
     "output_type": "stream",
     "text": [
      "[0 0 6 0 7 9 0 8 8 0]\n"
     ]
    }
   ],
   "source": [
    "Z=np.array([6,6,6,4,7,9,1,8,8,4])\n",
    "Z[Z.argsort()[:5]]=0\n",
    "print(Z)"
   ]
  },
  {
   "cell_type": "code",
   "execution_count": 35,
   "id": "e2fe84ac",
   "metadata": {},
   "outputs": [
    {
     "data": {
      "text/plain": [
       "array([[17, 27, 14, 11],\n",
       "       [11, 26, 26, 23],\n",
       "       [ 8, 24, 25, 26]])"
      ]
     },
     "execution_count": 35,
     "metadata": {},
     "output_type": "execute_result"
    }
   ],
   "source": [
    "arr=np.array([[17,27,14,11],[8,24,25,26],[11,26,26,23],[3,30,4,25],[22,18,24,11]])\n",
    "arr[[0,2,1]]"
   ]
  },
  {
   "cell_type": "code",
   "execution_count": null,
   "id": "3d42cfdb",
   "metadata": {},
   "outputs": [],
   "source": []
  }
 ],
 "metadata": {
  "kernelspec": {
   "display_name": "Python 3 (ipykernel)",
   "language": "python",
   "name": "python3"
  },
  "language_info": {
   "codemirror_mode": {
    "name": "ipython",
    "version": 3
   },
   "file_extension": ".py",
   "mimetype": "text/x-python",
   "name": "python",
   "nbconvert_exporter": "python",
   "pygments_lexer": "ipython3",
   "version": "3.9.16"
  }
 },
 "nbformat": 4,
 "nbformat_minor": 5
}
